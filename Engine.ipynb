{
 "cells": [
  {
   "cell_type": "code",
   "execution_count": null,
   "id": "28bb42c0-0c41-4ab0-acc3-7ccdfaebd91e",
   "metadata": {
    "tags": []
   },
   "outputs": [],
   "source": [
    "from datetime import datetime\n",
    "import matplotlib.dates as mdates\n",
    "import matplotlib.pyplot as plt\n",
    "import matplotlib.ticker as mtick\n",
    "import pandas as pd\n",
    "import time\n",
    "import yfinance as yf"
   ]
  },
  {
   "cell_type": "code",
   "execution_count": null,
   "id": "c5a294ca-40c9-493a-a9a7-c6126790ad72",
   "metadata": {
    "tags": []
   },
   "outputs": [],
   "source": [
    "class Portfolio:\n",
    "    def __init__(self, initial_cash, broker_fee=0.002):\n",
    "        self.initial_cash = initial_cash # probably won't have to use this variable\n",
    "        self.remaining_cash = initial_cash\n",
    "        self.broker_fee = broker_fee\n",
    "        self.shares_owned = 0\n",
    "        self.metrics_df = pd.DataFrame(columns=['Shares Owned', 'Cash Held', 'Profits'])\n",
    "    \n",
    "    # lingering question: how to have this if an order has different prices in it?\n",
    "    def buy(self, buy_shares, buy_price, buy_time):\n",
    "        # make sure we have the money to buy the shares we want\n",
    "        if self.remaining_cash - (buy_shares * buy_price) < 0:\n",
    "            print('Not enough money to fill this order')\n",
    "        else:\n",
    "            self.remaining_cash -= ((buy_shares * buy_price) + (buy_shares * buy_price * self.broker_fee))\n",
    "            self.shares_owned += buy_shares\n",
    "            print(f'We are buying {buy_shares} shares at ${buy_price} per share!')\n",
    "\n",
    "            # add this new position to a dataframe of metrics\n",
    "            self.metrics_df.loc[buy_time] = {'Shares Owned': self.shares_owned, 'Cash Held': self.remaining_cash, 'Profits': self.remaining_cash - self.initial_cash}\n",
    "    \n",
    "    def sell(self, sell_shares, sell_price, sell_time):\n",
    "        # make sure we have enough shares to sell the amount we want to sell\n",
    "        if self.shares_owned < sell_shares:\n",
    "            print('Not enough shares held to fill this order')\n",
    "        else:\n",
    "            self.remaining_cash += ((sell_shares * sell_price) - (sell_shares * sell_price * self.broker_fee))\n",
    "            self.shares_owned -= sell_shares\n",
    "            print(f'We are selling {sell_shares} shares at ${sell_price} per share!')\n",
    "            \n",
    "            # add this new position to a dataframe of metrics\n",
    "            self.metrics_df.loc[sell_time] = {'Shares Owned': self.shares_owned, 'Cash Held': self.remaining_cash, 'Profits': self.remaining_cash - self.initial_cash}\n",
    "    \n",
    "    def show_metrics(self):\n",
    "        print(self.metrics_df)\n",
    "    \n",
    "    def metrics_graph(self):\n",
    "\n",
    "        # Plot y1 and y2 on the primary y-axis, and y3 on the secondary y-axis\n",
    "        fig, ax1 = plt.subplots(figsize=(10, 6))  # Adjust the figure size if needed\n",
    "\n",
    "        # Setting the x-axis\n",
    "        ax1.set_xlabel('Date & Time')\n",
    "        ax1.tick_params(axis='x', rotation=45)\n",
    "        ax1.xaxis.set_major_formatter(mdates.DateFormatter('%Y-%m-%d %H:%M:%S')) \n",
    "\n",
    "        # Plot y1 and y2 on the primary y-axis\n",
    "        ax1.set_ylabel('Cash in USD')\n",
    "        ax1.plot(self.metrics_df.index, self.metrics_df['Cash Held'], label='Cash Held', color='tab:blue', linestyle='-')\n",
    "        ax1.plot(self.metrics_df.index, self.metrics_df['Profits'], label='Profits', color='tab:green', linestyle='--')\n",
    "\n",
    "        # Format the numbers on the y axis to be in dollars\n",
    "        ax1.yaxis.set_major_formatter(mtick.StrMethodFormatter('${x:,.0f}')) \n",
    "        \n",
    "        # Create a secondary y-axis for y3\n",
    "        ax2 = ax1.twinx()\n",
    "        ax2.set_ylabel('Number of Shares')\n",
    "        ax2.plot(self.metrics_df.index, self.metrics_df['Shares Owned'], label='Shares Owned', color='tab:red', linestyle='-.')\n",
    "\n",
    "        # Make the line at y=0 bolder\n",
    "        ax1.axhline(y=0, color='black', linewidth=2)\n",
    "        \n",
    "        # Add title to the plot\n",
    "        plt.title('Trading Metrics Over Time')\n",
    "        \n",
    "        # Add legend\n",
    "        fig.tight_layout()\n",
    "        fig.legend(loc='upper right')\n",
    "\n",
    "        # Show plot\n",
    "        plt.grid(True)\n",
    "        plt.show()"
   ]
  },
  {
   "cell_type": "code",
   "execution_count": null,
   "id": "7e1a0f29-ca75-48ce-9634-87f6a89f2ced",
   "metadata": {},
   "outputs": [],
   "source": [
    "def signal_gen(prev, past):\n",
    "    signal_results = {'Action': 'Neutral', 'Shares': 0}\n",
    "    if prev['Open'] - prev['Close'] < 0:\n",
    "        signal_results['Action'] = 'Buy'\n",
    "    else:\n",
    "        signal_results['Action'] = 'Sell'\n",
    "    \n",
    "    signal_results['Shares'] = 1\n",
    "    \n",
    "    return signal_results"
   ]
  },
  {
   "cell_type": "code",
   "execution_count": null,
   "id": "8c7ad926-1711-46a1-a0e8-a852e518bb4f",
   "metadata": {
    "tags": []
   },
   "outputs": [],
   "source": [
    "msft = yf.Ticker('MSFT')\n",
    "\n",
    "# get historical market data\n",
    "today = datetime.now().strftime('%Y-%m-%d')\n",
    "hist = msft.history(period='max', end=today, interval='1m') # max is 7 days when using 1 minute data"
   ]
  },
  {
   "cell_type": "code",
   "execution_count": null,
   "id": "925816a5-9e53-4376-abb1-27a23fc97353",
   "metadata": {
    "tags": []
   },
   "outputs": [],
   "source": [
    "# instantiate portfolio\n",
    "p1 = Portfolio(1_000)\n",
    "\n",
    "# this would actually be running the engine - getting data and seeing if buy or sell\n",
    "for i in range(1, len(hist.iloc[:20])):\n",
    "    prev_interval = hist.iloc[i-1]\n",
    "    full_past = hist.iloc[:i] # slice to i because it is not inclusive\n",
    "    \n",
    "    signal = signal_gen(prev_interval, full_past)\n",
    "    \n",
    "    if signal['Action'] == 'Buy':\n",
    "        p1.buy(signal['Shares'], prev_interval['High'], prev_interval.name)\n",
    "    else:\n",
    "        p1.sell(signal['Shares'], prev_interval['Low'], prev_interval.name)"
   ]
  },
  {
   "cell_type": "code",
   "execution_count": null,
   "id": "02b00f82-c2b6-410b-9929-43633769ca20",
   "metadata": {
    "tags": []
   },
   "outputs": [],
   "source": [
    "p1.show_metrics()\n",
    "p1.metrics_graph()"
   ]
  },
  {
   "cell_type": "code",
   "execution_count": null,
   "id": "371fe60c-904c-4d86-a155-08b4f3597aef",
   "metadata": {},
   "outputs": [],
   "source": []
  }
 ],
 "metadata": {
  "kernelspec": {
   "display_name": "Python 3 (ipykernel)",
   "language": "python",
   "name": "python3"
  },
  "language_info": {
   "codemirror_mode": {
    "name": "ipython",
    "version": 3
   },
   "file_extension": ".py",
   "mimetype": "text/x-python",
   "name": "python",
   "nbconvert_exporter": "python",
   "pygments_lexer": "ipython3",
   "version": "3.11.5"
  }
 },
 "nbformat": 4,
 "nbformat_minor": 5
}
